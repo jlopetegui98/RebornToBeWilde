{
  "cells": [
    {
      "cell_type": "markdown",
      "metadata": {
        "id": "view-in-github",
        "colab_type": "text"
      },
      "source": [
        "<a href=\"https://colab.research.google.com/github/jlopetegui98/RebornToBeWilde/blob/main/2-FineTuning.ipynb\" target=\"_parent\"><img src=\"https://colab.research.google.com/assets/colab-badge.svg\" alt=\"Open In Colab\"/></a>"
      ]
    },
    {
      "cell_type": "markdown",
      "metadata": {
        "id": "K2VtgoCecKVH"
      },
      "source": [
        "**Fine tuning Mistral-7B (instruction) with Oscar Wilde texts**"
      ]
    },
    {
      "cell_type": "code",
      "execution_count": null,
      "metadata": {
        "id": "a9sqgb94cKVJ"
      },
      "outputs": [],
      "source": [
        "# uncomment the following line to run in colab\n",
        "from google.colab import drive\n",
        "drive.mount('/content/drive')"
      ]
    },
    {
      "cell_type": "code",
      "execution_count": null,
      "metadata": {
        "id": "KpSpCUyWcKVK"
      },
      "outputs": [],
      "source": [
        "# uncomment the following line to run in colab\n",
        "!pip install -q -U bitsandbytes\n",
        "!pip install -q -U git+https://github.com/huggingface/transformers.git\n",
        "!pip install -q -U git+https://github.com/huggingface/peft.git\n",
        "!pip install -q -U git+https://github.com/huggingface/accelerate.git\n",
        "!pip install -q trl xformers wandb datasets einops gradio sentencepiece"
      ]
    },
    {
      "cell_type": "code",
      "execution_count": null,
      "metadata": {
        "id": "-usabpdicKVK"
      },
      "outputs": [],
      "source": [
        "# uncomment the following line to run in colab\n",
        "!nvidia-smi"
      ]
    },
    {
      "cell_type": "code",
      "execution_count": null,
      "metadata": {
        "id": "kQkCe0eqcKVK"
      },
      "outputs": [],
      "source": [
        "from transformers import AutoModelForCausalLM, AutoTokenizer, BitsAndBytesConfig,HfArgumentParser,TrainingArguments,pipeline, logging, TextStreamer\n",
        "from peft import LoraConfig, PeftModel, prepare_model_for_kbit_training, get_peft_model\n",
        "import os,torch, platform, gradio, warnings\n",
        "from datasets import load_dataset, Dataset\n",
        "from trl import SFTTrainer\n",
        "from huggingface_hub import notebook_login\n",
        "import json\n",
        "import utils"
      ]
    },
    {
      "cell_type": "code",
      "execution_count": null,
      "metadata": {
        "id": "VyWU1zL0cKVK"
      },
      "outputs": [],
      "source": [
        "# model to fine-tune\n",
        "model_name = \"mistralai/Mistral-7B-Instruct-v0.1\"\n",
        "dataset_name = \"finetuning_instructions_dataset_wilde\""
      ]
    },
    {
      "cell_type": "code",
      "execution_count": null,
      "metadata": {
        "id": "Vzr3K1jccKVL"
      },
      "outputs": [],
      "source": [
        "# path to the data\n",
        "# root_path = '.' # comment if using colab\n",
        "root_path = './drive/MyDrive/RebornToBeWilde' # uncomment if using colab\n",
        "dir_data = f'{root_path}/data/{dataset_name}.json'\n",
        "models_path = f'{root_path}/models'"
      ]
    },
    {
      "cell_type": "code",
      "execution_count": null,
      "metadata": {
        "id": "VpeBnkkxcKVL"
      },
      "outputs": [],
      "source": [
        "# load the dataset\n",
        "data_dict = json.load(open(dir_data))\n",
        "dataset = Dataset.from_dict(data_dict)\n",
        "dataset = dataset.train_test_split(test_size = 0.1, seed = 42)\n",
        "dataset"
      ]
    },
    {
      "cell_type": "code",
      "execution_count": null,
      "metadata": {
        "id": "4xOKSA8-cKVL"
      },
      "outputs": [],
      "source": [
        "# example of the dataset\n",
        "print(dataset['train']['text'][0])"
      ]
    },
    {
      "cell_type": "code",
      "execution_count": null,
      "metadata": {
        "id": "j53qtgGGcKVL"
      },
      "outputs": [],
      "source": [
        "# Load base model(Mistral 7B-Instruct)\n",
        "# quantization config\n",
        "model = load_model(model_name, adapt = True)\n",
        "# print the model\n",
        "model"
      ]
    },
    {
      "cell_type": "code",
      "execution_count": null,
      "metadata": {
        "id": "HolBWiZ0cKVL"
      },
      "outputs": [],
      "source": [
        "# Load tokenizer\n",
        "tokenizer = load_tokenizer(model_name)"
      ]
    },
    {
      "cell_type": "code",
      "execution_count": null,
      "metadata": {
        "id": "HI6wGK5zcKVM"
      },
      "outputs": [],
      "source": [
        "#Hyperparamters for fine tuning\n",
        "training_arguments = TrainingArguments(\n",
        "    output_dir= \"./results\",\n",
        "    num_train_epochs= 2,\n",
        "    per_device_train_batch_size= 4,\n",
        "    gradient_accumulation_steps= 2,\n",
        "    optim = \"paged_adamw_8bit\",\n",
        "    save_steps= 1000,\n",
        "    logging_steps= 30,\n",
        "    learning_rate= 2e-4,\n",
        "    weight_decay= 0.001,\n",
        "    fp16= False,\n",
        "    bf16= False,\n",
        "    max_grad_norm= 0.3,\n",
        "    max_steps= -1,\n",
        "    warmup_ratio= 0.3,\n",
        "    group_by_length= True,\n",
        "    lr_scheduler_type= \"constant\",\n",
        "    # report_to=\"wandb\"\n",
        ")\n",
        "# Setting sft parameters\n",
        "trainer = SFTTrainer(\n",
        "    model=model,\n",
        "    train_dataset=dataset['train'],\n",
        "    eval_dataset=dataset['test'],\n",
        "    peft_config=peft_config,\n",
        "    max_seq_length= 512,\n",
        "    dataset_text_field=\"text\",\n",
        "    tokenizer=tokenizer,\n",
        "    args=training_arguments,\n",
        "    packing= False,\n",
        ")"
      ]
    },
    {
      "cell_type": "code",
      "execution_count": null,
      "metadata": {
        "id": "mlWAAsygcKVM"
      },
      "outputs": [],
      "source": [
        "# Train the model\n",
        "trainer.train()"
      ]
    },
    {
      "cell_type": "code",
      "execution_count": null,
      "metadata": {
        "id": "eB_ODb44cKVM"
      },
      "outputs": [],
      "source": [
        "# evaluate the model\n",
        "trainer.evaluate()"
      ]
    },
    {
      "cell_type": "code",
      "execution_count": null,
      "metadata": {
        "id": "jJ7wXadGcKVM"
      },
      "outputs": [],
      "source": [
        "# save fine tuned model\n",
        "model_save_name = 'Mistral7B_fine_tuned_OscarWilde.pt'\n",
        "path = f\"{models_path}/{model_save_name}\"\n",
        "torch.save(model.state_dict(), path)"
      ]
    },
    {
      "cell_type": "code",
      "execution_count": null,
      "metadata": {
        "id": "Xppz6wbncKVM",
        "outputId": "fae5615e-166c-4100-db86-48cb96c23ab1"
      },
      "outputs": [
        {
          "name": "stdout",
          "output_type": "stream",
          "text": [
            "Model saved successfully!\n"
          ]
        }
      ],
      "source": [
        "print(\"Model saved successfully!\")"
      ]
    }
  ],
  "metadata": {
    "kernelspec": {
      "display_name": "honlp",
      "language": "python",
      "name": "python3"
    },
    "language_info": {
      "codemirror_mode": {
        "name": "ipython",
        "version": 3
      },
      "file_extension": ".py",
      "mimetype": "text/x-python",
      "name": "python",
      "nbconvert_exporter": "python",
      "pygments_lexer": "ipython3",
      "version": "3.10.13"
    },
    "colab": {
      "provenance": [],
      "include_colab_link": true
    }
  },
  "nbformat": 4,
  "nbformat_minor": 0
}